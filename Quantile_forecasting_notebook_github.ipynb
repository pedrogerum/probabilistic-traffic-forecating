{
 "cells": [
  {
   "cell_type": "code",
   "execution_count": 1,
   "id": "78f7a9fa",
   "metadata": {},
   "outputs": [
    {
     "name": "stderr",
     "output_type": "stream",
     "text": [
      "/home/pedro/miniconda/envs/mxnet_clean/lib/python3.7/site-packages/gluonts/json.py:46: UserWarning: Using `json`-module for json-handling. Consider installing one of `orjson`, `ujson` to speed up serialization and deserialization.\n",
      "  \"Using `json`-module for json-handling. \"\n"
     ]
    }
   ],
   "source": [
    "import numpy as np\n",
    "import os\n",
    "from mxnet import nd, gpu, gluon, autograd\n",
    "import mxnet as mx\n",
    "import pandas as pd\n",
    "from mxnet import gluon\n",
    "import gc \n",
    "\n",
    "from gluonts.env import env\n",
    "\n",
    "# env._push(use_tqdm=False)\n",
    "\n",
    "import json\n",
    "from gluonts.dataset.common import load_datasets\n",
    "from gluonts.dataset.repository.datasets import get_dataset\n",
    "from gluonts.model.seq2seq import MQRNNEstimator\n",
    "from gluonts.mx.trainer import Trainer\n",
    "from gluonts.evaluation import Evaluator\n",
    "from pathlib import Path\n",
    "from gluonts.evaluation.backtest import make_evaluation_predictions\n",
    "from tqdm.notebook import tqdm\n",
    "\n",
    "\n",
    "from gluonts.env import env"
   ]
  },
  {
   "cell_type": "code",
   "execution_count": 2,
   "id": "7ed0d6c2",
   "metadata": {},
   "outputs": [],
   "source": [
    "# activate whatever environment. \n",
    "# cd into the gluonts-local directory\n",
    "# pip install . "
   ]
  },
  {
   "cell_type": "code",
   "execution_count": 3,
   "id": "909142b6",
   "metadata": {},
   "outputs": [],
   "source": [
    "from quantile_forecast import *"
   ]
  },
  {
   "cell_type": "markdown",
   "id": "1dfc29cc",
   "metadata": {},
   "source": [
    "## Below we train the model. If you use the bash script instead, the training happens in a couple of minutes, but it takes much longer here."
   ]
  },
  {
   "cell_type": "code",
   "execution_count": 15,
   "id": "890595d7",
   "metadata": {},
   "outputs": [
    {
     "name": "stdout",
     "output_type": "stream",
     "text": [
      "{'epochs': 334, 'learning_rate': 0.00020122811163700603, 'learning_rate_decay_factor': 0.283951731448596, 'weight_decay': 8.564701478093447e-09, 'num_quantiles': 65}\n",
      "learning rate from ``lr_scheduler`` has been overwritten by ``learning_rate`` in optimizer.\n"
     ]
    },
    {
     "name": "stderr",
     "output_type": "stream",
     "text": [
      "/home/pedro/miniconda/envs/mxnet_clean/lib/python3.7/site-packages/gluonts/transform/split.py:36: FutureWarning: Timestamp.freq is deprecated and will be removed in a future version\n",
      "  return _shift_timestamp_helper(ts, ts.freq, offset)\n",
      "/home/pedro/miniconda/envs/mxnet_clean/lib/python3.7/site-packages/gluonts/transform/feature.py:352: FutureWarning: Timestamp.freq is deprecated and will be removed in a future version\n",
      "  self._min_time_point, self._max_time_point, freq=start.freq\n",
      "/home/pedro/miniconda/envs/mxnet_clean/lib/python3.7/site-packages/gluonts/model/forecast.py:502: FutureWarning: The 'freq' argument in Timestamp is deprecated and will be removed in a future version.\n",
      "  self.start_date = pd.Timestamp(start_date, freq=freq)\n"
     ]
    },
    {
     "data": {
      "application/json": {
       "ascii": false,
       "bar_format": null,
       "colour": null,
       "elapsed": 0.010824441909790039,
       "initial": 0,
       "n": 0,
       "ncols": null,
       "nrows": 60,
       "postfix": null,
       "prefix": "",
       "rate": null,
       "total": 128,
       "unit": "it",
       "unit_divisor": 1000,
       "unit_scale": false
      },
      "application/vnd.jupyter.widget-view+json": {
       "model_id": "9cea55b6a92542cbafefb2d02324bae0",
       "version_major": 2,
       "version_minor": 0
      },
      "text/plain": [
       "  0%|          | 0/128 [00:00<?, ?it/s]"
      ]
     },
     "metadata": {},
     "output_type": "display_data"
    },
    {
     "name": "stdout",
     "output_type": "stream",
     "text": [
      "All Test Data: \n",
      "{'crps': 0.009828123630566347, '60cover': 0.53125, '80cover': 0.7109375, '95cover': 0.953125}\n"
     ]
    }
   ],
   "source": [
    "dataset_path = \"/home/pedro/pedro_code/deep-traffic/fresh/data/data_to_tune/chic/chic.gluonts\"\n",
    "model_path = \"./models/chic_mqrnn\"\n",
    "config_path = \"./configs/test/config_chic_5_monot.json\"\n",
    "quantile_boundary= 1e-3\n",
    "monotonic = True\n",
    "\n",
    "with open(config_path) as json_file:\n",
    "        config = json.load(json_file)\n",
    "        print(config)\n",
    "        \n",
    "num_quantiles = config[\"num_quantiles\"]\n",
    "dataset = load_dataset(dataset_path)\n",
    "quantiles = make_quantiles(dataset, config[\"num_quantiles\"], quantile_boundary)\n",
    "trainer = make_trainer(config)\n",
    "\n",
    "\n",
    "estimator = make_mqrnn_estimator(trainer, quantiles, monotonic, dataset.metadata.freq, prediction_length = 1)\n",
    "predictor = make_predictor(estimator, dataset)\n",
    "\n",
    "metrics, _, _ = evaluate(predictor, dataset, quantiles, prediction_length = 1)\n",
    "\n",
    "print(\"All Test Data: \")\n",
    "print(metrics)"
   ]
  },
  {
   "cell_type": "code",
   "execution_count": null,
   "id": "e30f5cc7",
   "metadata": {},
   "outputs": [],
   "source": []
  }
 ],
 "metadata": {
  "kernelspec": {
   "display_name": "Python 3 (ipykernel)",
   "language": "python",
   "name": "python3"
  },
  "language_info": {
   "codemirror_mode": {
    "name": "ipython",
    "version": 3
   },
   "file_extension": ".py",
   "mimetype": "text/x-python",
   "name": "python",
   "nbconvert_exporter": "python",
   "pygments_lexer": "ipython3",
   "version": "3.7.10"
  }
 },
 "nbformat": 4,
 "nbformat_minor": 5
}
